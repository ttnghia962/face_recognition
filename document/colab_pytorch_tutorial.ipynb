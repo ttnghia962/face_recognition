{
  "nbformat": 4,
  "nbformat_minor": 0,
  "metadata": {
    "colab": {
      "name": "colab_pytorch_tutorial.ipynb",
      "provenance": [],
      "collapsed_sections": [],
      "toc_visible": true
    },
    "kernelspec": {
      "name": "python3",
      "display_name": "Python 3"
    },
    "widgets": {
      "application/vnd.jupyter.widget-state+json": {
        "33204e09eeca4db582dd4aa46220cadc": {
          "model_module": "@jupyter-widgets/controls",
          "model_name": "HBoxModel",
          "state": {
            "_view_name": "HBoxView",
            "_dom_classes": [],
            "_model_name": "HBoxModel",
            "_view_module": "@jupyter-widgets/controls",
            "_model_module_version": "1.5.0",
            "_view_count": null,
            "_view_module_version": "1.5.0",
            "box_style": "",
            "layout": "IPY_MODEL_bf5cee1015a9472aa297660d87baf161",
            "_model_module": "@jupyter-widgets/controls",
            "children": [
              "IPY_MODEL_ed216fc8d3d841b3934adaaf179123a7",
              "IPY_MODEL_d389138de4be4cb6b0c85bbd5785923a"
            ]
          }
        },
        "bf5cee1015a9472aa297660d87baf161": {
          "model_module": "@jupyter-widgets/base",
          "model_name": "LayoutModel",
          "state": {
            "_view_name": "LayoutView",
            "grid_template_rows": null,
            "right": null,
            "justify_content": null,
            "_view_module": "@jupyter-widgets/base",
            "overflow": null,
            "_model_module_version": "1.2.0",
            "_view_count": null,
            "flex_flow": null,
            "width": null,
            "min_width": null,
            "border": null,
            "align_items": null,
            "bottom": null,
            "_model_module": "@jupyter-widgets/base",
            "top": null,
            "grid_column": null,
            "overflow_y": null,
            "overflow_x": null,
            "grid_auto_flow": null,
            "grid_area": null,
            "grid_template_columns": null,
            "flex": null,
            "_model_name": "LayoutModel",
            "justify_items": null,
            "grid_row": null,
            "max_height": null,
            "align_content": null,
            "visibility": null,
            "align_self": null,
            "height": null,
            "min_height": null,
            "padding": null,
            "grid_auto_rows": null,
            "grid_gap": null,
            "max_width": null,
            "order": null,
            "_view_module_version": "1.2.0",
            "grid_template_areas": null,
            "object_position": null,
            "object_fit": null,
            "grid_auto_columns": null,
            "margin": null,
            "display": null,
            "left": null
          }
        },
        "ed216fc8d3d841b3934adaaf179123a7": {
          "model_module": "@jupyter-widgets/controls",
          "model_name": "FloatProgressModel",
          "state": {
            "_view_name": "ProgressView",
            "style": "IPY_MODEL_b56c5d74409c42ff9cfbb0649e56dea2",
            "_dom_classes": [],
            "description": "100%",
            "_model_name": "FloatProgressModel",
            "bar_style": "success",
            "max": 46827520,
            "_view_module": "@jupyter-widgets/controls",
            "_model_module_version": "1.5.0",
            "value": 46827520,
            "_view_count": null,
            "_view_module_version": "1.5.0",
            "orientation": "horizontal",
            "min": 0,
            "description_tooltip": null,
            "_model_module": "@jupyter-widgets/controls",
            "layout": "IPY_MODEL_bfaadbca1db848c487bf439192affb92"
          }
        },
        "d389138de4be4cb6b0c85bbd5785923a": {
          "model_module": "@jupyter-widgets/controls",
          "model_name": "HTMLModel",
          "state": {
            "_view_name": "HTMLView",
            "style": "IPY_MODEL_e2106ad307ce41ebb3eb1421da5ec855",
            "_dom_classes": [],
            "description": "",
            "_model_name": "HTMLModel",
            "placeholder": "​",
            "_view_module": "@jupyter-widgets/controls",
            "_model_module_version": "1.5.0",
            "value": " 44.7M/44.7M [00:00&lt;00:00, 137MB/s]",
            "_view_count": null,
            "_view_module_version": "1.5.0",
            "description_tooltip": null,
            "_model_module": "@jupyter-widgets/controls",
            "layout": "IPY_MODEL_a0974e86bd7948699520383a1a47ee80"
          }
        },
        "b56c5d74409c42ff9cfbb0649e56dea2": {
          "model_module": "@jupyter-widgets/controls",
          "model_name": "ProgressStyleModel",
          "state": {
            "_view_name": "StyleView",
            "_model_name": "ProgressStyleModel",
            "description_width": "initial",
            "_view_module": "@jupyter-widgets/base",
            "_model_module_version": "1.5.0",
            "_view_count": null,
            "_view_module_version": "1.2.0",
            "bar_color": null,
            "_model_module": "@jupyter-widgets/controls"
          }
        },
        "bfaadbca1db848c487bf439192affb92": {
          "model_module": "@jupyter-widgets/base",
          "model_name": "LayoutModel",
          "state": {
            "_view_name": "LayoutView",
            "grid_template_rows": null,
            "right": null,
            "justify_content": null,
            "_view_module": "@jupyter-widgets/base",
            "overflow": null,
            "_model_module_version": "1.2.0",
            "_view_count": null,
            "flex_flow": null,
            "width": null,
            "min_width": null,
            "border": null,
            "align_items": null,
            "bottom": null,
            "_model_module": "@jupyter-widgets/base",
            "top": null,
            "grid_column": null,
            "overflow_y": null,
            "overflow_x": null,
            "grid_auto_flow": null,
            "grid_area": null,
            "grid_template_columns": null,
            "flex": null,
            "_model_name": "LayoutModel",
            "justify_items": null,
            "grid_row": null,
            "max_height": null,
            "align_content": null,
            "visibility": null,
            "align_self": null,
            "height": null,
            "min_height": null,
            "padding": null,
            "grid_auto_rows": null,
            "grid_gap": null,
            "max_width": null,
            "order": null,
            "_view_module_version": "1.2.0",
            "grid_template_areas": null,
            "object_position": null,
            "object_fit": null,
            "grid_auto_columns": null,
            "margin": null,
            "display": null,
            "left": null
          }
        },
        "e2106ad307ce41ebb3eb1421da5ec855": {
          "model_module": "@jupyter-widgets/controls",
          "model_name": "DescriptionStyleModel",
          "state": {
            "_view_name": "StyleView",
            "_model_name": "DescriptionStyleModel",
            "description_width": "",
            "_view_module": "@jupyter-widgets/base",
            "_model_module_version": "1.5.0",
            "_view_count": null,
            "_view_module_version": "1.2.0",
            "_model_module": "@jupyter-widgets/controls"
          }
        },
        "a0974e86bd7948699520383a1a47ee80": {
          "model_module": "@jupyter-widgets/base",
          "model_name": "LayoutModel",
          "state": {
            "_view_name": "LayoutView",
            "grid_template_rows": null,
            "right": null,
            "justify_content": null,
            "_view_module": "@jupyter-widgets/base",
            "overflow": null,
            "_model_module_version": "1.2.0",
            "_view_count": null,
            "flex_flow": null,
            "width": null,
            "min_width": null,
            "border": null,
            "align_items": null,
            "bottom": null,
            "_model_module": "@jupyter-widgets/base",
            "top": null,
            "grid_column": null,
            "overflow_y": null,
            "overflow_x": null,
            "grid_auto_flow": null,
            "grid_area": null,
            "grid_template_columns": null,
            "flex": null,
            "_model_name": "LayoutModel",
            "justify_items": null,
            "grid_row": null,
            "max_height": null,
            "align_content": null,
            "visibility": null,
            "align_self": null,
            "height": null,
            "min_height": null,
            "padding": null,
            "grid_auto_rows": null,
            "grid_gap": null,
            "max_width": null,
            "order": null,
            "_view_module_version": "1.2.0",
            "grid_template_areas": null,
            "object_position": null,
            "object_fit": null,
            "grid_auto_columns": null,
            "margin": null,
            "display": null,
            "left": null
          }
        }
      }
    }
  },
  "cells": [
    {
      "cell_type": "markdown",
      "metadata": {
        "id": "PQfdhbJtpmvt",
        "colab_type": "text"
      },
      "source": [
        "Hướng dẫn train model trên Google Colab với Pytorch\n",
        "====\n",
        "\n"
      ]
    },
    {
      "cell_type": "markdown",
      "metadata": {
        "id": "jgB0p5whqppc",
        "colab_type": "text"
      },
      "source": [
        "## Khởi tạo môi trường\n"
      ]
    },
    {
      "cell_type": "code",
      "metadata": {
        "id": "zSskWV_rXmEg",
        "colab_type": "code",
        "colab": {
          "base_uri": "https://localhost:8080/",
          "height": 238
        },
        "outputId": "77660ae1-1e28-425a-bf2e-e089fcdbf34f"
      },
      "source": [
        "!apt-get install -y -qq software-properties-common module-init-tools\n",
        "!add-apt-repository -y ppa:alessandro-strada/ppa 2>&1 > /dev/null\n",
        "!apt-get update -qq 2>&1 > /dev/null"
      ],
      "execution_count": 8,
      "outputs": [
        {
          "output_type": "stream",
          "text": [
            "(Reading database ... 144487 files and directories currently installed.)\n",
            "Preparing to unpack .../module-init-tools_24-1ubuntu3.5_all.deb ...\n",
            "Unpacking module-init-tools (24-1ubuntu3.5) over (24-1ubuntu3.4) ...\n",
            "Preparing to unpack .../software-properties-common_0.96.24.32.14_all.deb ...\n",
            "Unpacking software-properties-common (0.96.24.32.14) over (0.96.24.32.13) ...\n",
            "Preparing to unpack .../python3-software-properties_0.96.24.32.14_all.deb ...\n",
            "Unpacking python3-software-properties (0.96.24.32.14) over (0.96.24.32.13) ...\n",
            "Setting up module-init-tools (24-1ubuntu3.5) ...\n",
            "Setting up python3-software-properties (0.96.24.32.14) ...\n",
            "Setting up software-properties-common (0.96.24.32.14) ...\n",
            "Processing triggers for dbus (1.12.2-1ubuntu1.2) ...\n",
            "Processing triggers for man-db (2.8.3-2ubuntu0.1) ...\n"
          ],
          "name": "stdout"
        }
      ]
    },
    {
      "cell_type": "markdown",
      "metadata": {
        "id": "q7IZz2d7OpwA",
        "colab_type": "text"
      },
      "source": [
        "Cài đặt `google-drive` package"
      ]
    },
    {
      "cell_type": "code",
      "metadata": {
        "id": "hXkUr3Ezpk1x",
        "colab_type": "code",
        "colab": {
          "base_uri": "https://localhost:8080/",
          "height": 128
        },
        "outputId": "fd87747b-374e-4f20-c530-c5e01ee2aaee"
      },
      "source": [
        "!apt-get -y install -qq google-drive-ocamlfuse fuse"
      ],
      "execution_count": 9,
      "outputs": [
        {
          "output_type": "stream",
          "text": [
            "Selecting previously unselected package google-drive-ocamlfuse.\n",
            "(Reading database ... \r(Reading database ... 5%\r(Reading database ... 10%\r(Reading database ... 15%\r(Reading database ... 20%\r(Reading database ... 25%\r(Reading database ... 30%\r(Reading database ... 35%\r(Reading database ... 40%\r(Reading database ... 45%\r(Reading database ... 50%\r(Reading database ... 55%\r(Reading database ... 60%\r(Reading database ... 65%\r(Reading database ... 70%\r(Reading database ... 75%\r(Reading database ... 80%\r(Reading database ... 85%\r(Reading database ... 90%\r(Reading database ... 95%\r(Reading database ... 100%\r(Reading database ... 144487 files and directories currently installed.)\n",
            "Preparing to unpack .../google-drive-ocamlfuse_0.7.22-0ubuntu3~ubuntu18.04.1_amd64.deb ...\n",
            "Unpacking google-drive-ocamlfuse (0.7.22-0ubuntu3~ubuntu18.04.1) ...\n",
            "Setting up google-drive-ocamlfuse (0.7.22-0ubuntu3~ubuntu18.04.1) ...\n",
            "Processing triggers for man-db (2.8.3-2ubuntu0.1) ...\n"
          ],
          "name": "stdout"
        }
      ]
    },
    {
      "cell_type": "markdown",
      "metadata": {
        "id": "ieKKiRO2sty7",
        "colab_type": "text"
      },
      "source": [
        "Tạo đường dẫn gdrive vào colab notebook"
      ]
    },
    {
      "cell_type": "code",
      "metadata": {
        "id": "24UN3tYVrueu",
        "colab_type": "code",
        "colab": {
          "base_uri": "https://localhost:8080/",
          "height": 129
        },
        "outputId": "f311ff3d-da6c-4bea-fa8a-c67f2be2b992"
      },
      "source": [
        "from google.colab import drive\n",
        "drive.mount('/content/drive')"
      ],
      "execution_count": 27,
      "outputs": [
        {
          "output_type": "stream",
          "text": [
            "Go to this URL in a browser: https://accounts.google.com/o/oauth2/auth?client_id=947318989803-6bn6qk8qdgf4n4g3pfee6491hc0brc4i.apps.googleusercontent.com&redirect_uri=urn%3aietf%3awg%3aoauth%3a2.0%3aoob&scope=email%20https%3a%2f%2fwww.googleapis.com%2fauth%2fdocs.test%20https%3a%2f%2fwww.googleapis.com%2fauth%2fdrive%20https%3a%2f%2fwww.googleapis.com%2fauth%2fdrive.photos.readonly%20https%3a%2f%2fwww.googleapis.com%2fauth%2fpeopleapi.readonly&response_type=code\n",
            "\n",
            "Enter your authorization code:\n",
            "··········\n",
            "Mounted at /content/drive\n"
          ],
          "name": "stdout"
        }
      ]
    },
    {
      "cell_type": "markdown",
      "metadata": {
        "id": "uRcqQfapuUqV",
        "colab_type": "text"
      },
      "source": [
        "## Pytorch cơ bản"
      ]
    },
    {
      "cell_type": "markdown",
      "metadata": {
        "id": "cV-EFCX3urG1",
        "colab_type": "text"
      },
      "source": [
        "Import pytorch"
      ]
    },
    {
      "cell_type": "code",
      "metadata": {
        "id": "t_qolxm0uja0",
        "colab_type": "code",
        "colab": {}
      },
      "source": [
        "import torch\n",
        "import torch.nn as nn\n",
        "import torch.nn.functional as F\n",
        "import torchvision"
      ],
      "execution_count": 10,
      "outputs": []
    },
    {
      "cell_type": "markdown",
      "metadata": {
        "id": "iUyz7DeTY3Mc",
        "colab_type": "text"
      },
      "source": [
        "### Neural Net"
      ]
    },
    {
      "cell_type": "markdown",
      "metadata": {
        "id": "RzJBU8xeu6rL",
        "colab_type": "text"
      },
      "source": [
        "Một class neural network xử lý ảnh cơ bản có dạng như sau, trong đó:\n",
        "* `__init__()` khởi tạo các layer\n",
        "* `forward(x)` nhận vào input data và trả về output sau khi đi đi qua các layer\n",
        "\n"
      ]
    },
    {
      "cell_type": "code",
      "metadata": {
        "id": "hfq8puulvY0K",
        "colab_type": "code",
        "colab": {}
      },
      "source": [
        "class Net(nn.Module):\n",
        "    def __init__(self):\n",
        "        super(Net, self).__init__()\n",
        "        # Convolution layers\n",
        "        # 1 input image channel, 6 output channels, 3x3 square convolution\n",
        "        self.conv1 = nn.Conv2d(in_channels=3, out_channels=6, kernel_size=3)\n",
        "        self.conv2 = nn.Conv2d(6, 16, 3)\n",
        "        # Fully connected layers y = Wx + b\n",
        "        self.fc1 = nn.Linear(16 * 6 * 6, 120)  # 6*6 from image dimension\n",
        "        self.fc2 = nn.Linear(120, 84)\n",
        "        self.fc3 = nn.Linear(84, 10)\n",
        "\n",
        "    def forward(self, x):\n",
        "        # Max pooling over a (2, 2) window\n",
        "        x = F.max_pool2d(F.relu(self.conv1(x)), (2, 2))\n",
        "        print(x.size())\n",
        "        # If the size is a square you can only specify a single number\n",
        "        x = F.max_pool2d(F.relu(self.conv2(x)), 2)\n",
        "        print(x.size())\n",
        "        x = x.view(-1, self.num_flat_features(x))\n",
        "        x = F.relu(self.fc1(x))\n",
        "        x = F.relu(self.fc2(x))\n",
        "        x = self.fc3(x)\n",
        "        return x\n",
        "\n",
        "    def num_flat_features(self, x):\n",
        "        size = x.size()[1:]  # all dimensions except the batch dimension\n",
        "        num_features = 1\n",
        "        for s in size:\n",
        "            num_features *= s\n",
        "        return num_features\n",
        "\n",
        "net = Net()"
      ],
      "execution_count": null,
      "outputs": []
    },
    {
      "cell_type": "markdown",
      "metadata": {
        "id": "ZAk1ickBwekj",
        "colab_type": "text"
      },
      "source": [
        "`print(net)` cho biết thông số các layer có trong mạng:"
      ]
    },
    {
      "cell_type": "code",
      "metadata": {
        "id": "en-Cw0SYw0qF",
        "colab_type": "code",
        "colab": {
          "base_uri": "https://localhost:8080/",
          "height": 146
        },
        "outputId": "a03fc709-c42e-4125-828d-a7a9b8262174"
      },
      "source": [
        "print(net)"
      ],
      "execution_count": null,
      "outputs": [
        {
          "output_type": "stream",
          "text": [
            "Net(\n",
            "  (conv1): Conv2d(3, 6, kernel_size=(3, 3), stride=(1, 1))\n",
            "  (conv2): Conv2d(6, 16, kernel_size=(3, 3), stride=(1, 1))\n",
            "  (fc1): Linear(in_features=576, out_features=120, bias=True)\n",
            "  (fc2): Linear(in_features=120, out_features=84, bias=True)\n",
            "  (fc3): Linear(in_features=84, out_features=10, bias=True)\n",
            ")\n"
          ],
          "name": "stdout"
        }
      ]
    },
    {
      "cell_type": "markdown",
      "metadata": {
        "id": "OOCOICdtNG4X",
        "colab_type": "text"
      },
      "source": [
        "Quá trình tính toán được biểu diễn như sau:\n",
        "\n",
        "```\n",
        "input -> conv1 -> relu -> maxpool2d -> conv2 -> relu -> maxpool2d\n",
        "      -> view -> fc1 -> relu -> fc2 -> relu -> fc3 -> output\n",
        "```\n",
        "\n",
        "**Lưu ý**: Để feed data từ convolution layer (conv2) sang fully connected layer (fc1), cần xác định `input_channels` của fc1\n",
        "\n",
        "VD: `input` là ảnh có kích thước `32 x 32` thì `input_channels` của fc1 sẽ là\n",
        "```\n",
        "conv_size = 3\n",
        "conv_output_channels = 16\n",
        "pool_size = 2\n",
        "input_channels = conv_output_channels * ((32 - conv_size + 1) / pool_size - 3 + 1) / 2)**2\n",
        "               = 16 * (((32 - 3 + 1) / 2 - 3 + 1) / 2)**2\n",
        "               = 16 * 6 * 6\n",
        "```"
      ]
    },
    {
      "cell_type": "markdown",
      "metadata": {
        "id": "YqbnBBdn0V8I",
        "colab_type": "text"
      },
      "source": [
        "Đối với model xử lý ảnh mỗi input sẽ có dạng 1 tensor `[số lượng x số kênh màu x chiều dài x chiều rộng]`\n",
        "\n",
        "Ví dụ đưa một bức ảnh vào model được output như sau:"
      ]
    },
    {
      "cell_type": "code",
      "metadata": {
        "id": "rt2R8wVZ7-WO",
        "colab_type": "code",
        "colab": {
          "base_uri": "https://localhost:8080/",
          "height": 91
        },
        "outputId": "a2562dc9-5a86-41a5-e7b9-9e75577a9bda"
      },
      "source": [
        "input_img = torch.randn(1, 3, 32, 32)\n",
        "output = net(input_img)\n",
        "print(output)"
      ],
      "execution_count": null,
      "outputs": [
        {
          "output_type": "stream",
          "text": [
            "torch.Size([1, 6, 15, 15])\n",
            "torch.Size([1, 16, 6, 6])\n",
            "tensor([[-0.1019,  0.0323,  0.0863, -0.1607, -0.0677,  0.1106,  0.0578,  0.0021,\n",
            "         -0.0985, -0.0082]], grad_fn=<AddmmBackward>)\n"
          ],
          "name": "stdout"
        }
      ]
    },
    {
      "cell_type": "markdown",
      "metadata": {
        "id": "CyUO-gHcY8hy",
        "colab_type": "text"
      },
      "source": [
        "### Dataset"
      ]
    },
    {
      "cell_type": "markdown",
      "metadata": {
        "id": "ndGDhP5hZAKT",
        "colab_type": "text"
      },
      "source": [
        "Builtin của pytorch, hỗ trợ thiết kế dataset"
      ]
    },
    {
      "cell_type": "code",
      "metadata": {
        "id": "D8yWE5hwY_L2",
        "colab_type": "code",
        "colab": {}
      },
      "source": [
        "from torchvision.datasets.folder import ImageFolder, default_loader\n",
        "from torchvision.datasets.utils import download_url, check_integrity"
      ],
      "execution_count": 20,
      "outputs": []
    },
    {
      "cell_type": "markdown",
      "metadata": {
        "id": "ZswwmWIhaJcI",
        "colab_type": "text"
      },
      "source": [
        "VD dataset chó mèo"
      ]
    },
    {
      "cell_type": "code",
      "metadata": {
        "id": "SwAuftSzZ25L",
        "colab_type": "code",
        "colab": {}
      },
      "source": [
        "import os\n",
        "import zipfile\n",
        "class DogCatDataset(ImageFolder):\n",
        "    '''\n",
        "        folder structure\n",
        "\n",
        "        └── dogscats\n",
        "            ├── sample\n",
        "            │   ├── train\n",
        "            │   │   ├── cats\n",
        "            │   │   └── dogs\n",
        "            │   └── valid\n",
        "            │       ├── cats\n",
        "            │       └── dogs\n",
        "            ├── train\n",
        "            │   ├── cats\n",
        "            │   └── dogs\n",
        "            └── valid\n",
        "                ├── cats\n",
        "                └── dogs\n",
        "    '''\n",
        "\n",
        "    url = \"http://files.fast.ai/data/dogscats.zip\"\n",
        "    filename = \"dogscats.zip\"\n",
        "    checksum = \"aef22ec7d472dd60e8ee79eecc19f131\"\n",
        "\n",
        "    def __init__(\n",
        "        self,\n",
        "        root: str,\n",
        "        suffix: str,\n",
        "        transform=None,\n",
        "        target_transform=None,\n",
        "        loader=default_loader,\n",
        "        download=False,\n",
        "    ):\n",
        "        self.root = os.path.expanduser(root)\n",
        "\n",
        "        if download:\n",
        "            self._download()\n",
        "            self._extract()\n",
        "\n",
        "        if not self._check_integrity():\n",
        "            raise RuntimeError(\n",
        "                \"Dataset not found or corrupted. \"\n",
        "                \"You can use download=True to download it\"\n",
        "            )\n",
        "\n",
        "        path = os.path.join(self.root, \"dogscats\", suffix)\n",
        "        print(f\"Loading data from {path}.\")\n",
        "        assert os.path.isdir(path), f\"'{suffix}' is not valid.\"\n",
        "\n",
        "        super().__init__(path, transform, target_transform, loader)\n",
        "\n",
        "    def _download(self):\n",
        "        if self._check_integrity():\n",
        "            print(\"Dataset already downloaded and verified.\")\n",
        "            return\n",
        "\n",
        "        root = self.root\n",
        "        print(\"Downloading dataset... (this might take a while)\")\n",
        "        download_url(self.url, root, self.filename, self.checksum)\n",
        "\n",
        "    def _extract(self):\n",
        "        path_to_zip = os.path.join(self.root, self.filename)\n",
        "        with zipfile.ZipFile(path_to_zip, \"r\") as zip_ref:\n",
        "            zip_ref.extractall(self.root)\n",
        "\n",
        "    def _check_integrity(self):\n",
        "        path_to_zip = os.path.join(self.root, self.filename)\n",
        "        return check_integrity(path_to_zip, self.checksum)"
      ],
      "execution_count": 24,
      "outputs": []
    },
    {
      "cell_type": "markdown",
      "metadata": {
        "id": "bfyLyV42aaAI",
        "colab_type": "text"
      },
      "source": [
        "Tạo dataset"
      ]
    },
    {
      "cell_type": "code",
      "metadata": {
        "id": "2vltcQrXbDy5",
        "colab_type": "code",
        "colab": {
          "base_uri": "https://localhost:8080/",
          "height": 35
        },
        "outputId": "4a22283a-c2d1-43de-c385-6d452ef3321f"
      },
      "source": [
        "path = './drive/My Drive/Colab Notebooks'\n",
        "train_dataset = DogCatDataset(\"../data/raw\", \"sample/train\")"
      ],
      "execution_count": 33,
      "outputs": [
        {
          "output_type": "stream",
          "text": [
            "Loading data from ../data/raw/dogscats/sample/train.\n"
          ],
          "name": "stdout"
        }
      ]
    },
    {
      "cell_type": "code",
      "metadata": {
        "id": "A7TKut5wdHlL",
        "colab_type": "code",
        "colab": {
          "base_uri": "https://localhost:8080/",
          "height": 411
        },
        "outputId": "246d0659-3f52-4693-d09b-f24a37ec7b82"
      },
      "source": [
        "print(train_dataset[0])\n",
        "train_dataset[0][0]"
      ],
      "execution_count": 35,
      "outputs": [
        {
          "output_type": "stream",
          "text": [
            "(<PIL.Image.Image image mode=RGB size=499x375 at 0x7FA08A1AAEF0>, 0)\n"
          ],
          "name": "stdout"
        },
        {
          "output_type": "execute_result",
          "data": {
            "image/png": "[encoded data removed]",
            "text/plain": [
              "<PIL.Image.Image image mode=RGB size=499x375 at 0x7FA08A1AAF28>"
            ]
          },
          "metadata": {
            "tags": []
          },
          "execution_count": 35
        }
      ]
    },
    {
      "cell_type": "markdown",
      "metadata": {
        "id": "6AxejOH4dA_W",
        "colab_type": "text"
      },
      "source": [
        "### Tiền xử lý"
      ]
    },
    {
      "cell_type": "markdown",
      "metadata": {
        "id": "4uNxbR7ReOzg",
        "colab_type": "text"
      },
      "source": [
        "Sử dụng `transforms` để chuẩn hóa, thay đổi kích thước, màu ảnh, độ sáng, vv của ảnh"
      ]
    },
    {
      "cell_type": "code",
      "metadata": {
        "id": "Jpo4qrIqeV7q",
        "colab_type": "code",
        "colab": {}
      },
      "source": [
        "from torchvision import transforms"
      ],
      "execution_count": 36,
      "outputs": []
    },
    {
      "cell_type": "code",
      "metadata": {
        "id": "YdIz1zHDeZe5",
        "colab_type": "code",
        "colab": {}
      },
      "source": [
        "image_size = 224\n",
        "mean = [0.485, 0.456, 0.406]\n",
        "std = [0.229, 0.224, 0.225]\n",
        "\n",
        "transform = transforms.Compose([\n",
        "    transforms.RandomCrop(image_size),\n",
        "    # transforms.RandomHorizontalFlip(),\n",
        "    # transforms.ColorJitter(.3, .3, .3),\n",
        "    transforms.ToTensor(),\n",
        "    transforms.Normalize(mean, std),\n",
        "])"
      ],
      "execution_count": 37,
      "outputs": []
    },
    {
      "cell_type": "code",
      "metadata": {
        "id": "Ts-WJj0pfI_d",
        "colab_type": "code",
        "colab": {
          "base_uri": "https://localhost:8080/",
          "height": 35
        },
        "outputId": "ec4518ca-4fd7-46a4-d510-c6872b53ecc0"
      },
      "source": [
        "train_dataset = DogCatDataset(\"../data/raw\", \"sample/train\", transform=transform)"
      ],
      "execution_count": 39,
      "outputs": [
        {
          "output_type": "stream",
          "text": [
            "Loading data from ../data/raw/dogscats/sample/train.\n"
          ],
          "name": "stdout"
        }
      ]
    },
    {
      "cell_type": "markdown",
      "metadata": {
        "id": "qe5d9SYGfenN",
        "colab_type": "text"
      },
      "source": [
        "Tạo data loader"
      ]
    },
    {
      "cell_type": "code",
      "metadata": {
        "id": "DGYHPUVtfeAF",
        "colab_type": "code",
        "colab": {}
      },
      "source": [
        "from torch.utils.data import DataLoader\n",
        "\n",
        "batch_size = 2 # số phần tử của 1 tập data, có dạng 2^n để tối ưu kiến trúc gpu\n",
        "workers = 4 # pytorch const\n",
        "\n",
        "train_loader = DataLoader(train_dataset, batch_size=batch_size, shuffle=True, num_workers=workers)"
      ],
      "execution_count": 41,
      "outputs": []
    },
    {
      "cell_type": "markdown",
      "metadata": {
        "id": "Hzrv9yLtW2ap",
        "colab_type": "text"
      },
      "source": [
        "## VD train pretrained model"
      ]
    },
    {
      "cell_type": "markdown",
      "metadata": {
        "id": "EDzeLXSlj70w",
        "colab_type": "text"
      },
      "source": [
        "Với tập dataset chó mèo phía trên và model `resnet18`"
      ]
    },
    {
      "cell_type": "code",
      "metadata": {
        "id": "atndmf7iiE0P",
        "colab_type": "code",
        "colab": {}
      },
      "source": [
        "n_classes = 2"
      ],
      "execution_count": 43,
      "outputs": []
    },
    {
      "cell_type": "markdown",
      "metadata": {
        "id": "qFNTA5uKhVkC",
        "colab_type": "text"
      },
      "source": [
        "### Load pretrained model"
      ]
    },
    {
      "cell_type": "code",
      "metadata": {
        "id": "vFnTHfRwW69d",
        "colab_type": "code",
        "colab": {
          "base_uri": "https://localhost:8080/",
          "height": 106,
          "referenced_widgets": [
            "33204e09eeca4db582dd4aa46220cadc",
            "bf5cee1015a9472aa297660d87baf161",
            "ed216fc8d3d841b3934adaaf179123a7",
            "d389138de4be4cb6b0c85bbd5785923a",
            "b56c5d74409c42ff9cfbb0649e56dea2",
            "bfaadbca1db848c487bf439192affb92",
            "e2106ad307ce41ebb3eb1421da5ec855",
            "a0974e86bd7948699520383a1a47ee80"
          ]
        },
        "outputId": "25549dad-3971-4840-81da-ef0b5cdd4132"
      },
      "source": [
        "from torchvision import models\n",
        "\n",
        "model = models.resnet18(pretrained=True)"
      ],
      "execution_count": 42,
      "outputs": [
        {
          "output_type": "stream",
          "text": [
            "Downloading: \"https://download.pytorch.org/models/resnet18-5c106cde.pth\" to /root/.cache/torch/hub/checkpoints/resnet18-5c106cde.pth\n"
          ],
          "name": "stderr"
        },
        {
          "output_type": "display_data",
          "data": {
            "application/vnd.jupyter.widget-view+json": {
              "model_id": "33204e09eeca4db582dd4aa46220cadc",
              "version_minor": 0,
              "version_major": 2
            },
            "text/plain": [
              "HBox(children=(FloatProgress(value=0.0, max=46827520.0), HTML(value='')))"
            ]
          },
          "metadata": {
            "tags": []
          }
        },
        {
          "output_type": "stream",
          "text": [
            "\n"
          ],
          "name": "stdout"
        }
      ]
    },
    {
      "cell_type": "code",
      "metadata": {
        "id": "ksTc5PLJhfnq",
        "colab_type": "code",
        "colab": {}
      },
      "source": [
        "# Freeze giá trị các node của pretrained model \n",
        "for param in model.parameters():\n",
        "    param.requires_grad = False"
      ],
      "execution_count": 44,
      "outputs": []
    },
    {
      "cell_type": "code",
      "metadata": {
        "id": "Fgz4iNYjhwSa",
        "colab_type": "code",
        "colab": {}
      },
      "source": [
        "# print(model)\n",
        "# Thay đổi layer cuối cùng thành fully connected layer\n",
        "model.fc = nn.Linear(512, n_classes)"
      ],
      "execution_count": 45,
      "outputs": []
    },
    {
      "cell_type": "markdown",
      "metadata": {
        "id": "d_YrW1xh6gGC",
        "colab_type": "text"
      },
      "source": [
        "### Loss function"
      ]
    },
    {
      "cell_type": "markdown",
      "metadata": {
        "id": "TwnL71p0hSBF",
        "colab_type": "text"
      },
      "source": [
        "Sử dụng cross entropy cho bài toán phân lớp"
      ]
    },
    {
      "cell_type": "code",
      "metadata": {
        "id": "De1gMCDY00fp",
        "colab_type": "code",
        "colab": {}
      },
      "source": [
        "# loss_fn = nn.MSELoss()\n",
        "loss_fn = nn.CrossEntropyLoss()"
      ],
      "execution_count": 46,
      "outputs": []
    },
    {
      "cell_type": "markdown",
      "metadata": {
        "id": "MVyTpN7hijez",
        "colab_type": "text"
      },
      "source": [
        "### Optimizer"
      ]
    },
    {
      "cell_type": "markdown",
      "metadata": {
        "id": "CHtVYiXPi3u_",
        "colab_type": "text"
      },
      "source": [
        "Đổi với pretrained model, chỉ optimize các node trong layer cuối cùng\n"
      ]
    },
    {
      "cell_type": "code",
      "metadata": {
        "id": "eiVbMq7NjADG",
        "colab_type": "code",
        "colab": {}
      },
      "source": [
        "def get_trainable(model_params):\n",
        "    return (p for p in model_params if p.requires_grad)"
      ],
      "execution_count": 49,
      "outputs": []
    },
    {
      "cell_type": "code",
      "metadata": {
        "id": "Y8rgaQb14PbO",
        "colab_type": "code",
        "colab": {}
      },
      "source": [
        "optimizer = torch.optim.Adam(\n",
        "    get_trainable(model.parameters()),\n",
        "    lr=0.001,\n",
        "    # momentum=0.9,\n",
        ")"
      ],
      "execution_count": 50,
      "outputs": []
    },
    {
      "cell_type": "markdown",
      "metadata": {
        "id": "eN5ooKusjP9C",
        "colab_type": "text"
      },
      "source": [
        "### Train loop"
      ]
    },
    {
      "cell_type": "code",
      "metadata": {
        "id": "Zga2js-_lBnM",
        "colab_type": "code",
        "colab": {
          "base_uri": "https://localhost:8080/",
          "height": 54
        },
        "outputId": "2199c401-5df1-4e11-e67a-0267b92ee530"
      },
      "source": [
        "# phần tạo transform, dataset và dataloader trong mục `Tiền xử lý`\n",
        "\n",
        "train_trans = transforms.Compose([\n",
        "    transforms.Resize(256),\n",
        "    transforms.RandomCrop(image_size),\n",
        "    transforms.RandomHorizontalFlip(),\n",
        "    transforms.ColorJitter(.3, .3, .3),\n",
        "    transforms.ToTensor(),\n",
        "    transforms.Normalize(mean, std),\n",
        "])\n",
        "val_trans = transforms.Compose([\n",
        "    transforms.Resize(256),\n",
        "    transforms.CenterCrop(image_size),\n",
        "    transforms.ToTensor(),\n",
        "    transforms.Normalize(mean, std),\n",
        "])\n",
        "\n",
        "train_ds = DogCatDataset(\"../data/raw\", \"sample/train\", transform=train_trans)\n",
        "val_ds = DogCatDataset(\"../data/raw\", \"sample/valid\", transform=val_trans)\n",
        "\n",
        "train_dl = DataLoader(\n",
        "    train_ds,\n",
        "    batch_size=batch_size,\n",
        "    shuffle=True,\n",
        "    num_workers=4,\n",
        ")\n",
        "\n",
        "val_dl = DataLoader(\n",
        "    val_ds,\n",
        "    batch_size=batch_size,\n",
        "    shuffle=False,\n",
        "    num_workers=4,\n",
        ")"
      ],
      "execution_count": 52,
      "outputs": [
        {
          "output_type": "stream",
          "text": [
            "Loading data from ../data/raw/dogscats/sample/train.\n",
            "Loading data from ../data/raw/dogscats/sample/valid.\n"
          ],
          "name": "stdout"
        }
      ]
    },
    {
      "cell_type": "code",
      "metadata": {
        "id": "jAQeb6nfjStf",
        "colab_type": "code",
        "colab": {
          "base_uri": "https://localhost:8080/",
          "height": 165
        },
        "outputId": "459d15c8-ff70-49bd-facd-85b879f6396f"
      },
      "source": [
        "N_EPOCHS = 4 # số vòng lặp feed data vào network\n",
        "DEVICE = torch.device('cuda' if torch.cuda.is_available() else 'cpu')\n",
        "\n",
        "for epoch in range(N_EPOCHS):\n",
        "    \n",
        "    # train\n",
        "    model.train()  # IMPORTANT\n",
        "    \n",
        "    total_loss, n_correct, n_samples = 0.0, 0, 0\n",
        "    for batch_i, (X, y) in enumerate(train_dl):\n",
        "        # copy train và valid data từ ram sang gpu memory\n",
        "        X, y = X.to(DEVICE), y.to(DEVICE)\n",
        "        \n",
        "        optimizer.zero_grad()\n",
        "        y_ = model(X)\n",
        "        loss = loss_fn(y_, y)\n",
        "        loss.backward()\n",
        "        optimizer.step()\n",
        "        \n",
        "        # tính loss và cập nhật optimizer\n",
        "        _, y_label_ = torch.max(y_, 1)\n",
        "        n_correct += (y_label_ == y).sum().item()\n",
        "        total_loss += loss.item() * X.shape[0]\n",
        "        n_samples += X.shape[0]\n",
        "    \n",
        "    # hiển thị quá trình\n",
        "    print(\n",
        "        f\"Epoch {epoch+1}/{N_EPOCHS} |\"\n",
        "        f\"  train loss: {total_loss / n_samples:9.3f} |\"\n",
        "        f\"  train acc:  {n_correct / n_samples * 100:9.3f}%\"\n",
        "    )\n",
        "    \n",
        "    \n",
        "    # eval\n",
        "    model.eval()  # IMPORTANT\n",
        "    \n",
        "    total_loss, n_correct, n_samples = 0.0, 0, 0\n",
        "    with torch.no_grad():  # freeze giá trị các node để tiến hành test/valid\n",
        "        for X, y in val_dl:\n",
        "            X, y = X.to(DEVICE), y.to(DEVICE)\n",
        "                    \n",
        "            y_ = model(X)\n",
        "        \n",
        "            # tính loss và cập nhật optimizer\n",
        "            _, y_label_ = torch.max(y_, 1)\n",
        "            n_correct += (y_label_ == y).sum().item()\n",
        "            loss = loss_fn(y_, y)\n",
        "            total_loss += loss.item() * X.shape[0]\n",
        "            n_samples += X.shape[0]\n",
        "\n",
        "    # hiển thị quá trình\n",
        "    print(\n",
        "        f\"Epoch {epoch+1}/{N_EPOCHS} |\"\n",
        "        f\"  valid loss: {total_loss / n_samples:9.3f} |\"\n",
        "        f\"  valid acc:  {n_correct / n_samples * 100:9.3f}%\"\n",
        "    )"
      ],
      "execution_count": 55,
      "outputs": [
        {
          "output_type": "stream",
          "text": [
            "Epoch 1/4 |  train loss:     0.288 |  train acc:     81.250%\n",
            "Epoch 1/4 |  valid loss:     0.418 |  valid acc:     87.500%\n",
            "Epoch 2/4 |  train loss:     0.620 |  train acc:     62.500%\n",
            "Epoch 2/4 |  valid loss:     0.290 |  valid acc:     87.500%\n",
            "Epoch 3/4 |  train loss:     0.416 |  train acc:     75.000%\n",
            "Epoch 3/4 |  valid loss:     0.321 |  valid acc:     87.500%\n",
            "Epoch 4/4 |  train loss:     0.641 |  train acc:     56.250%\n",
            "Epoch 4/4 |  valid loss:     0.337 |  valid acc:     87.500%\n"
          ],
          "name": "stdout"
        }
      ]
    },
    {
      "cell_type": "markdown",
      "metadata": {
        "id": "OszJTJERnRmR",
        "colab_type": "text"
      },
      "source": [
        "## Save & load model"
      ]
    },
    {
      "cell_type": "code",
      "metadata": {
        "id": "KuJGXQtInXjm",
        "colab_type": "code",
        "colab": {}
      },
      "source": [
        "# save\n",
        "torch.save(model.state_dict(), 'path/to/model/model_name.pt')\n",
        "\n",
        "# load\n",
        "loaded = model.load_state_dict(torch.load('path/to/model/model_name.pt'))"
      ],
      "execution_count": null,
      "outputs": []
    },
    {
      "cell_type": "markdown",
      "metadata": {
        "id": "BLVfmDNyPaag",
        "colab_type": "text"
      },
      "source": [
        "Hướng dẫn train bằng facenet-pytorch\n",
        "===="
      ]
    },
    {
      "cell_type": "markdown",
      "metadata": {
        "id": "fyKQUcsAPohW",
        "colab_type": "text"
      },
      "source": [
        "## Import thư viện"
      ]
    },
    {
      "cell_type": "code",
      "metadata": {
        "id": "os7l0j2VPtSK",
        "colab_type": "code",
        "colab": {}
      },
      "source": [
        "pip install facenet-pytorch"
      ],
      "execution_count": null,
      "outputs": []
    },
    {
      "cell_type": "code",
      "metadata": {
        "id": "l1s-JC97QD70",
        "colab_type": "code",
        "colab": {}
      },
      "source": [
        "from facenet_pytorch import (\n",
        "    MTCNN,\n",
        "    InceptionResnetV1,\n",
        "    fixed_image_standardization,\n",
        "    training\n",
        ")\n",
        "import torch\n",
        "import torch.nn as nn\n",
        "from torch.utils.data.dataloader import DataLoader\n",
        "from torch.utils.data.sampler import SubsetRandomSampler\n",
        "from torch.optim.lr_scheduler import MultiStepLR\n",
        "from torchvision import (\n",
        "    datasets,\n",
        "    transforms\n",
        ")"
      ],
      "execution_count": null,
      "outputs": []
    },
    {
      "cell_type": "markdown",
      "metadata": {
        "id": "MaNm2ZbuQdiI",
        "colab_type": "text"
      },
      "source": [
        "## Khởi tạo các biến"
      ]
    },
    {
      "cell_type": "code",
      "metadata": {
        "id": "Hx9uWDXSQiE-",
        "colab_type": "code",
        "colab": {}
      },
      "source": [
        "batch_size = 32 \n",
        "epochs = 15 \n",
        "workers = 8\n",
        "device = torch.device('cuda' if torch.cuda.is_available() else 'cpu')\n",
        "data_path = 'path/to/data'"
      ],
      "execution_count": 2,
      "outputs": []
    },
    {
      "cell_type": "markdown",
      "metadata": {
        "id": "efMYhxljRxVF",
        "colab_type": "text"
      },
      "source": [
        "## Tiền xử lý data"
      ]
    },
    {
      "cell_type": "code",
      "metadata": {
        "id": "cDt3Mm0uRw7I",
        "colab_type": "code",
        "colab": {}
      },
      "source": [
        "transform = transforms.Compose([\n",
        "                                # transforms.ColorJitter(),\n",
        "                                # transforms.RandomRotation((-5, 5)),\n",
        "                                np.float32,\n",
        "                                transforms.ToTensor(),\n",
        "                                fixed_image_standardization]) # normalize data ảnh với (x - 127) / 128 với x trong [0, 255]\n",
        "\n",
        "# khởi tạo dataset\n",
        "dataset = datasets.ImageFolder(path.join(BASE, data_path), \n",
        "                               transform=transform)\n",
        "\n",
        "# trích label từ dataset\n",
        "label_dict = dataset.class_to_idx"
      ],
      "execution_count": null,
      "outputs": []
    },
    {
      "cell_type": "markdown",
      "metadata": {
        "id": "E27xggf2TF3w",
        "colab_type": "text"
      },
      "source": [
        "## Tạo pretrained model"
      ]
    },
    {
      "cell_type": "code",
      "metadata": {
        "id": "EzhKn1-ITKjc",
        "colab_type": "code",
        "colab": {}
      },
      "source": [
        "model_name = 'vggface2'\n",
        "resnet = InceptionResnetV1(pretrained=model_name,\n",
        "                           classify=True,\n",
        "                           num_classes=len(label_dict))\n",
        "\n",
        "print(resnet)\n",
        "\n",
        "# thay đổi layer cuối cùng của model bằng fully connected layers\n",
        "resnet.logits = nn.Sequential(nn.Linear(512, 1024),\n",
        "                              nn.ReLU(),\n",
        "                              nn.Linear(1024, 1024),\n",
        "                              nn.ReLU(),\n",
        "                              nn.Linear(64, len(label_dict)),\n",
        "                              nn.Dropout(p=0.2))"
      ],
      "execution_count": null,
      "outputs": []
    },
    {
      "cell_type": "markdown",
      "metadata": {
        "id": "HqXuxyV7UKQk",
        "colab_type": "text"
      },
      "source": [
        "## Train model"
      ]
    },
    {
      "cell_type": "code",
      "metadata": {
        "id": "Bel8BQIpTKqz",
        "colab_type": "code",
        "colab": {}
      },
      "source": [
        "optimizer = torch.optim.Adam(resnet.logits.parameters())\n",
        "scheduler = MultiStepLR(optimizer, [5, 10])\n",
        "\n",
        "# shuffle dataset\n",
        "img_idxs = np.arange(len(dataset))\n",
        "np.random.shuffle(img_idxs)\n",
        "\n",
        "train_idxs = img_idxs[:int(0.8 * len(img_idxs))]\n",
        "val_idxs = img_idxs[int(0.8 * len(img_idxs)):]\n",
        "\n",
        "# tạo tập train và tập valid\n",
        "train_loader = DataLoader(dataset,\n",
        "                          num_workers=workers,\n",
        "                          batch_size=batch_size,\n",
        "                          sampler=SubsetRandomSampler(train_idxs))\n",
        "valid_loader = DataLoader(dataset,\n",
        "                          num_workers=workers,\n",
        "                          batch_size=batch_size,\n",
        "                          sampler=SubsetRandomSampler(val_idxs))\n",
        "\n",
        "loss_fn = torch.nn.CrossEntropyLoss()\n",
        "metrics = {\n",
        "    # 'fps': training.BatchTimer(),\n",
        "    'acc': training.accuracy\n",
        "}\n",
        "\n",
        "# reset các node của neural net mỗi lần run\n",
        "optimizer.zero_grad()\n",
        "\n",
        "for epoch in range(epochs):\n",
        "    print('-'*60)\n",
        "    print(f'epochs {epoch + 1}:')\n",
        "    resnet.train()\n",
        "    training.pass_epoch(model=resnet,\n",
        "                        loss_fn=loss_fn,\n",
        "                        loader=train_loader,\n",
        "                        optimizer=optimizer,\n",
        "                        scheduler=scheduler,\n",
        "                        batch_metrics=metrics,\n",
        "                        show_running=True,\n",
        "                        device=device)\n",
        "    resnet.eval()\n",
        "    training.pass_epoch(model=resnet,\n",
        "                        loss_fn=loss_fn,\n",
        "                        loader=valid_loader,\n",
        "                        scheduler=scheduler,\n",
        "                        batch_metrics=metrics,\n",
        "                        show_running=True,\n",
        "                        device=device)"
      ],
      "execution_count": null,
      "outputs": []
    },
    {
      "cell_type": "markdown",
      "metadata": {
        "id": "-mvdbtoJVQMw",
        "colab_type": "text"
      },
      "source": [
        "## Save model"
      ]
    },
    {
      "cell_type": "code",
      "metadata": {
        "id": "OFg3cL4rVOVQ",
        "colab_type": "code",
        "colab": {}
      },
      "source": [
        "torch.save(resnet.state_dict(), 'path/to/model/model_name.pt')"
      ],
      "execution_count": null,
      "outputs": []
    }
  ]
}